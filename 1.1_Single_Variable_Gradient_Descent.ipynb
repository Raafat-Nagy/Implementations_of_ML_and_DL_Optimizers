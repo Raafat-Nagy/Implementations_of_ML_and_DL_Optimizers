{
 "cells": [
  {
   "cell_type": "markdown",
   "metadata": {},
   "source": [
    "## **Single Variable Linear Regression using Gradient Descent**\n"
   ]
  },
  {
   "cell_type": "markdown",
   "metadata": {},
   "source": [
    "This practical work demonstrates how to implement linear regression using gradient descent in Python. The tasks include initializing parameters, iterating through data points to minimize the cost function, and visualizing the results. Here is a step-by-step explanation with the complete code implementation:\n"
   ]
  },
  {
   "cell_type": "markdown",
   "metadata": {},
   "source": [
    "#### **Import Necessary Libraries**\n"
   ]
  },
  {
   "cell_type": "code",
   "execution_count": 40,
   "metadata": {},
   "outputs": [],
   "source": [
    "import numpy as np\n",
    "import pandas as pd\n",
    "import matplotlib.pyplot as plt\n",
    "\n",
    "plt.style.use(\"seaborn-v0_8-darkgrid\")"
   ]
  },
  {
   "cell_type": "markdown",
   "metadata": {},
   "source": [
    "#### **Load the Data**\n"
   ]
  },
  {
   "cell_type": "code",
   "execution_count": null,
   "metadata": {},
   "outputs": [],
   "source": [
    "data = pd.read_csv(\"./Data/Single_Variable_LR_Data.csv\")"
   ]
  },
  {
   "cell_type": "code",
   "execution_count": 42,
   "metadata": {},
   "outputs": [
    {
     "data": {
      "text/html": [
       "<div>\n",
       "<style scoped>\n",
       "    .dataframe tbody tr th:only-of-type {\n",
       "        vertical-align: middle;\n",
       "    }\n",
       "\n",
       "    .dataframe tbody tr th {\n",
       "        vertical-align: top;\n",
       "    }\n",
       "\n",
       "    .dataframe thead th {\n",
       "        text-align: right;\n",
       "    }\n",
       "</style>\n",
       "<table border=\"1\" class=\"dataframe\">\n",
       "  <thead>\n",
       "    <tr style=\"text-align: right;\">\n",
       "      <th></th>\n",
       "      <th>x1</th>\n",
       "      <th>y</th>\n",
       "    </tr>\n",
       "  </thead>\n",
       "  <tbody>\n",
       "    <tr>\n",
       "      <th>0</th>\n",
       "      <td>2.9</td>\n",
       "      <td>4.0</td>\n",
       "    </tr>\n",
       "    <tr>\n",
       "      <th>1</th>\n",
       "      <td>6.7</td>\n",
       "      <td>7.4</td>\n",
       "    </tr>\n",
       "    <tr>\n",
       "      <th>2</th>\n",
       "      <td>4.9</td>\n",
       "      <td>5.0</td>\n",
       "    </tr>\n",
       "    <tr>\n",
       "      <th>3</th>\n",
       "      <td>7.9</td>\n",
       "      <td>7.2</td>\n",
       "    </tr>\n",
       "    <tr>\n",
       "      <th>4</th>\n",
       "      <td>9.8</td>\n",
       "      <td>7.9</td>\n",
       "    </tr>\n",
       "  </tbody>\n",
       "</table>\n",
       "</div>"
      ],
      "text/plain": [
       "    x1    y\n",
       "0  2.9  4.0\n",
       "1  6.7  7.4\n",
       "2  4.9  5.0\n",
       "3  7.9  7.2\n",
       "4  9.8  7.9"
      ]
     },
     "execution_count": 42,
     "metadata": {},
     "output_type": "execute_result"
    }
   ],
   "source": [
    "data.head()"
   ]
  },
  {
   "cell_type": "code",
   "execution_count": 43,
   "metadata": {},
   "outputs": [
    {
     "data": {
      "text/plain": [
       "(13, 2)"
      ]
     },
     "execution_count": 43,
     "metadata": {},
     "output_type": "execute_result"
    }
   ],
   "source": [
    "data.shape"
   ]
  },
  {
   "cell_type": "markdown",
   "metadata": {},
   "source": [
    "#### **Define Variables 𝑋 and 𝑦**\n"
   ]
  },
  {
   "cell_type": "markdown",
   "metadata": {},
   "source": [
    "**Assign first column data to X and second column to y**\n",
    "\n",
    "<b>Note:</b> X is the independent variable (input to LR model) and y is the dependent variable (output)\n"
   ]
  },
  {
   "cell_type": "code",
   "execution_count": 44,
   "metadata": {},
   "outputs": [],
   "source": [
    "# assign the first column to X\n",
    "X = data.drop(\"y\", axis=1).values.ravel()\n",
    "\n",
    "# assign the second column to y\n",
    "y = data[\"y\"].values"
   ]
  },
  {
   "cell_type": "markdown",
   "metadata": {},
   "source": [
    "#### **Explore Data**\n"
   ]
  },
  {
   "cell_type": "code",
   "execution_count": 45,
   "metadata": {},
   "outputs": [
    {
     "data": {
      "text/plain": [
       "array([2.9000001 , 6.69999981, 4.9000001 , 7.9000001 , 9.80000019,\n",
       "       6.9000001 , 6.0999999 , 6.19999981, 6.        , 5.0999999 ,\n",
       "       4.69999981, 4.4000001 , 5.80000019])"
      ]
     },
     "execution_count": 45,
     "metadata": {},
     "output_type": "execute_result"
    }
   ],
   "source": [
    "X"
   ]
  },
  {
   "cell_type": "code",
   "execution_count": 46,
   "metadata": {
    "scrolled": true
   },
   "outputs": [
    {
     "data": {
      "text/plain": [
       "array([4.        , 7.4000001 , 5.        , 7.19999981, 7.9000001 ,\n",
       "       6.0999999 , 6.        , 5.80000019, 5.19999981, 4.19999981,\n",
       "       4.        , 4.4000001 , 5.19999981])"
      ]
     },
     "execution_count": 46,
     "metadata": {},
     "output_type": "execute_result"
    }
   ],
   "source": [
    "y"
   ]
  },
  {
   "cell_type": "markdown",
   "metadata": {},
   "source": [
    "#### **Plot the Original Data**\n"
   ]
  },
  {
   "cell_type": "markdown",
   "metadata": {},
   "source": [
    "Visualize the data using a scatter plot of (X,y)\n"
   ]
  },
  {
   "cell_type": "code",
   "execution_count": 47,
   "metadata": {},
   "outputs": [
    {
     "data": {
      "image/png": "[encoded data removed]",
      "text/plain": [
       "<Figure size 700x500 with 1 Axes>"
      ]
     },
     "metadata": {},
     "output_type": "display_data"
    }
   ],
   "source": [
    "plt.figure(figsize=(7, 5))\n",
    "plt.scatter(X, y)\n",
    "plt.xlabel(\"X\")\n",
    "plt.ylabel(\"Y\")\n",
    "plt.title(\"Scatter plot of Original Data\")\n",
    "plt.show()"
   ]
  },
  {
   "cell_type": "markdown",
   "metadata": {},
   "source": [
    "---\n"
   ]
  },
  {
   "cell_type": "markdown",
   "metadata": {},
   "source": [
    "### **Linear Regression Full Implementation**\n"
   ]
  },
  {
   "cell_type": "markdown",
   "metadata": {},
   "source": [
    "#### **Step 1: Initialize Parameters**\n"
   ]
  },
  {
   "cell_type": "markdown",
   "metadata": {},
   "source": [
    "Initialize parameters (theta_0 & theta_1) with random value or simply zero.<br>\n",
    "Also choose the Learning rate.\n"
   ]
  },
  {
   "cell_type": "code",
   "execution_count": 48,
   "metadata": {},
   "outputs": [],
   "source": [
    "theta_0 = 0.0\n",
    "theta_1 = 0.0\n",
    "lr = 0.01\n",
    "m = len(y)"
   ]
  },
  {
   "cell_type": "markdown",
   "metadata": {},
   "source": [
    "#### **Step 2: Implement the Hypothesis Function**\n"
   ]
  },
  {
   "cell_type": "markdown",
   "metadata": {},
   "source": [
    "Use (theta_0 & theta_1) to predict the output\n",
    "\n",
    "> **Note: you will need to iterate through all data points**\n"
   ]
  },
  {
   "cell_type": "markdown",
   "metadata": {},
   "source": [
    "$$h_\\theta(x) = \\theta_0 + \\theta_1 x$$\n"
   ]
  },
  {
   "cell_type": "code",
   "execution_count": 49,
   "metadata": {},
   "outputs": [
    {
     "name": "stdout",
     "output_type": "stream",
     "text": [
      "h(x): [0. 0. 0. 0. 0. 0. 0. 0. 0. 0. 0. 0. 0.]\n"
     ]
    }
   ],
   "source": [
    "h_x = theta_0 + theta_1 * X\n",
    "\n",
    "\n",
    "print(\"h(x):\", h_x)"
   ]
  },
  {
   "cell_type": "markdown",
   "metadata": {},
   "source": [
    "#### **Step 3: Calculate the Cost Function $J(\\theta)$ (MSE)**\n"
   ]
  },
  {
   "cell_type": "markdown",
   "metadata": {},
   "source": [
    "> <b>Note:</b> You better use either dot product or norm square of the error vector.\n"
   ]
  },
  {
   "cell_type": "markdown",
   "metadata": {},
   "source": [
    "**Error Calculation**:\n",
    "$$\\text{Error} = h_x - y$$\n"
   ]
  },
  {
   "cell_type": "code",
   "execution_count": 50,
   "metadata": {},
   "outputs": [
    {
     "name": "stdout",
     "output_type": "stream",
     "text": [
      "Error Vector:\n",
      " [-4.         -7.4000001  -5.         -7.19999981 -7.9000001  -6.0999999\n",
      " -6.         -5.80000019 -5.19999981 -4.19999981 -4.         -4.4000001\n",
      " -5.19999981]\n"
     ]
    }
   ],
   "source": [
    "error = h_x - y\n",
    "print(\"Error Vector:\\n\", error)"
   ]
  },
  {
   "cell_type": "markdown",
   "metadata": {},
   "source": [
    "$$J(\\theta) = \\frac{1}{2m} \\sum_{i=1}^{m} \\left( h_\\theta(x^{(i)}) - y^{(i)} \\right)^2$$\n"
   ]
  },
  {
   "cell_type": "code",
   "execution_count": 51,
   "metadata": {},
   "outputs": [
    {
     "name": "stdout",
     "output_type": "stream",
     "text": [
      "\n",
      "J(θ): 16.305384479692318\n"
     ]
    }
   ],
   "source": [
    "J_theta = np.sum(error**2) / (2 * m)\n",
    "print(\"\\nJ(θ):\", J_theta)"
   ]
  },
  {
   "cell_type": "markdown",
   "metadata": {},
   "source": [
    "$$J(\\theta) = \\frac{\\| \\text{Error} \\|_2^2}{2m}$$\n",
    "\n",
    "- $\\| \\text{Error} \\|_2$ denotes the L2 norm of the error vector, which is equivalent to the square root of the sum of the squares of its elements.\n"
   ]
  },
  {
   "cell_type": "code",
   "execution_count": 52,
   "metadata": {},
   "outputs": [
    {
     "name": "stdout",
     "output_type": "stream",
     "text": [
      "\n",
      "J(θ): 16.305384479692314\n"
     ]
    }
   ],
   "source": [
    "J_theta = np.linalg.norm(error) ** 2 / (2 * m)\n",
    "print(\"\\nJ(θ):\", J_theta)"
   ]
  },
  {
   "cell_type": "markdown",
   "metadata": {},
   "source": [
    "$$J(\\theta) = \\frac{\\text{E} \\cdot \\text{E}}{2m}$$\n"
   ]
  },
  {
   "cell_type": "code",
   "execution_count": 53,
   "metadata": {},
   "outputs": [
    {
     "name": "stdout",
     "output_type": "stream",
     "text": [
      "\n",
      "J(θ): 16.305384479692318\n"
     ]
    }
   ],
   "source": [
    "# J_theta = (error @ error) / (2 * m)\n",
    "J_theta = np.dot(error, error) / (2 * m)\n",
    "print(\"\\nJ(θ):\", J_theta)"
   ]
  },
  {
   "cell_type": "markdown",
   "metadata": {},
   "source": [
    "#### **Step 4: Compute the Gradient**\n"
   ]
  },
  {
   "cell_type": "markdown",
   "metadata": {},
   "source": [
    "Calculate the gradients for θ₀ and θ₁\n",
    "\n",
    "> <b>Note:</b> You can use the error vector calculated in the previous step.\n"
   ]
  },
  {
   "cell_type": "markdown",
   "metadata": {},
   "source": [
    "$$\\frac{\\partial}{\\partial \\theta_0} J(\\boldsymbol{\\theta}) = \\frac{1}{m} \\sum_{i=1}^{m} \\left( h_\\theta(x^{(i)}) - y^{(i)} \\right)$$\n",
    "\n",
    "$$\\frac{\\partial}{\\partial \\theta_0} J(\\boldsymbol{\\theta}) = \\frac{1}{m} \\sum_{i=1}^{m} e^{(i)}$$\n",
    "\n",
    "---\n",
    "\n",
    "$$\\frac{\\partial}{\\partial \\theta_1} J(\\boldsymbol{\\theta}) = \\frac{1}{m} \\sum_{i=1}^{m} \\left( h_\\theta(x^{(i)}) - y^{(i)} \\right)x_1^{(i)}$$\n",
    "\n",
    "$$\\frac{\\partial}{\\partial \\theta_1} J(\\boldsymbol{\\theta}) = \\frac{1}{m} \\sum_{i=1}^{m} (e^{(i)} x_1^{(i)})$$\n"
   ]
  },
  {
   "cell_type": "code",
   "execution_count": 54,
   "metadata": {},
   "outputs": [
    {
     "name": "stdout",
     "output_type": "stream",
     "text": [
      "d(θ₀): -5.569230739769231\n",
      "d(θ₁): -35.043846043215375\n"
     ]
    }
   ],
   "source": [
    "d_theta_0 = (1 / m) * error.sum()\n",
    "d_theta_1 = (1 / m) * (error @ X)\n",
    "\n",
    "\n",
    "print(\"d(θ₀):\", d_theta_0)\n",
    "print(\"d(θ₁):\", d_theta_1)"
   ]
  },
  {
   "cell_type": "markdown",
   "metadata": {},
   "source": [
    "#### **Step 5: Update Parameters (Simultaneously)**\n"
   ]
  },
  {
   "cell_type": "markdown",
   "metadata": {},
   "source": [
    "**Gradient Descent Function Update Rules**\n",
    "\n",
    "$$\\theta_0 := \\theta_0 - \\alpha \\frac{\\partial}{\\partial \\theta_0} J(\\boldsymbol{\\theta})$$\n",
    "\n",
    "$$\\theta_1 := \\theta_1 - \\alpha \\frac{\\partial}{\\partial \\theta_1} J(\\boldsymbol{\\theta})$$\n"
   ]
  },
  {
   "cell_type": "code",
   "execution_count": 55,
   "metadata": {},
   "outputs": [
    {
     "name": "stdout",
     "output_type": "stream",
     "text": [
      "Updated θ₀: 0.05569230739769231\n",
      "Updated θ₁: 0.35043846043215376\n"
     ]
    }
   ],
   "source": [
    "theta_0 = theta_0 - (lr * d_theta_0)\n",
    "theta_1 = theta_1 - (lr * d_theta_1)\n",
    "\n",
    "print(\"Updated θ₀:\", theta_0)\n",
    "print(\"Updated θ₁:\", theta_1)"
   ]
  },
  {
   "cell_type": "markdown",
   "metadata": {},
   "source": [
    "#### **Step 6: Iterate Until Convergence**\n"
   ]
  },
  {
   "cell_type": "markdown",
   "metadata": {},
   "source": [
    "Repeat from 2 to 5 until converge to the minimum or achieve maximum iterations.\n",
    "\n",
    "The objective from this step is to combine all the previous steps and iterate untill you either achieve the maximum number of iterations or reach the minimum.\n"
   ]
  },
  {
   "cell_type": "code",
   "execution_count": null,
   "metadata": {},
   "outputs": [
    {
     "name": "stdout",
     "output_type": "stream",
     "text": [
      "——————————————————————— Iteration 1 ————————————————————————\n",
      "\n",
      "h(x): [0. 0. 0. 0. 0. 0. 0. 0. 0. 0. 0. 0. 0.] \n",
      "\n",
      "Error Vector:\n",
      " [-4.         -7.4000001  -5.         -7.19999981 -7.9000001  -6.0999999\n",
      " -6.         -5.80000019 -5.19999981 -4.19999981 -4.         -4.4000001\n",
      " -5.19999981] \n",
      "\n",
      "J(θ): 16.305384479692318 \n",
      "\n",
      "▽(θ₀): -5.569230739769231\n",
      "▽(θ₁): -35.043846043215375 \n",
      "\n",
      "Gradient Vector:\n",
      " [[ -5.56923074]\n",
      " [-35.04384604]] \n",
      "\n",
      "Gradient Vector Norm: 35.483622652335995 \n",
      "\n",
      "New_θ₀:  0.05569230739769231\n",
      "New_θ₁:  0.35043846043215376 \n",
      "\n",
      "\n",
      "——————————————————————— Iteration 2 ————————————————————————\n",
      "\n",
      "h(x): [1.07196388 2.40362993 1.7728408  2.82415618 3.48998929 2.47371772\n",
      " 2.19336688 2.2284107  2.15832307 1.84292842 1.702753   1.59762157\n",
      " 2.08823544] \n",
      "\n",
      "Error Vector:\n",
      " [-2.92803612 -4.99637017 -3.2271592  -4.37584363 -4.41001081 -3.62628219\n",
      " -3.80663312 -3.5715895  -3.04167674 -2.35707139 -2.297247   -2.80237853\n",
      " -3.11176436] \n",
      "\n",
      "J(θ): 6.175608808043304 \n",
      "\n",
      "▽(θ₀): -3.427081750033853\n",
      "▽(θ₁): -21.338452630007847 \n",
      "\n",
      "Gradient Vector:\n",
      " [[ -3.42708175]\n",
      " [-21.33845263]] \n",
      "\n",
      "Gradient Vector Norm: 21.61190528307266 \n",
      "\n",
      "New_θ₀:  0.08996312489803085\n",
      "New_θ₁:  0.5638229867322322 \n",
      "\n",
      "\n",
      "——————————————————————— Iteration 3 ————————————————————————\n",
      "\n",
      "h(x): [1.72504984 3.86757703 2.85269581 4.54416477 5.6154285  3.98034179\n",
      " 3.52928329 3.58566553 3.47290105 2.9654603  2.73993105 2.57078432\n",
      " 3.36013656] \n",
      "\n",
      "Error Vector:\n",
      " [-2.27495016 -3.53242307 -2.14730419 -2.65583504 -2.28457159 -2.11965812\n",
      " -2.47071671 -2.21433466 -1.72709876 -1.23453951 -1.26006895 -1.82921577\n",
      " -1.83986325] \n",
      "\n",
      "J(θ): 2.417830065479564 \n",
      "\n",
      "▽(θ₀): -2.1223522897885743\n",
      "▽(θ₁): -12.990999326677294 \n",
      "\n",
      "Gradient Vector:\n",
      " [[ -2.12235229]\n",
      " [-12.99099933]] \n",
      "\n",
      "Gradient Vector Norm: 13.16322311395278 \n",
      "\n",
      "New_θ₀:  0.1111866477959166\n",
      "New_θ₁:  0.6937329799990051 \n",
      "\n",
      "\n",
      "——————————————————————— Iteration 4 ————————————————————————\n",
      "\n",
      "h(x): [2.12301236 4.75919748 3.51047832 5.59167726 6.90976998 4.89794428\n",
      " 4.34295776 4.41233099 4.27358453 3.64922478 3.37173152 3.16361183\n",
      " 4.13483806] \n",
      "\n",
      "Error Vector:\n",
      " [-1.87698764 -2.64080261 -1.48952168 -1.60832255 -0.99023011 -1.20205563\n",
      " -1.65704224 -1.3876692  -0.92641528 -0.55077503 -0.62826848 -1.23638827\n",
      " -1.06516174] \n",
      "\n",
      "J(θ): 1.023798104945009 \n",
      "\n",
      "▽(θ₀): -1.3276646521937843\n",
      "▽(θ₁): -7.906872647866421 \n",
      "\n",
      "Gradient Vector:\n",
      " [[-1.32766465]\n",
      " [-7.90687265]] \n",
      "\n",
      "Gradient Vector Norm: 8.017563750807536 \n",
      "\n",
      "New_θ₀:  0.12446329431785444\n",
      "New_θ₁:  0.7728017064776693 \n",
      "\n",
      "\n",
      "——————————————————————— Iteration 5 ————————————————————————\n",
      "\n",
      "h(x): [2.36558832 5.30223458 3.91119173 6.22959685 7.69792017 5.45679514\n",
      " 4.83855363 4.91583373 4.76127353 4.06575192 3.75663117 3.52479088\n",
      " 4.60671334] \n",
      "\n",
      "Error Vector:\n",
      " [-1.63441168 -2.09776551 -1.08880827 -0.97040296 -0.20207993 -0.64320476\n",
      " -1.16144637 -0.88416646 -0.43872628 -0.13424789 -0.24336883 -0.87520922\n",
      " -0.59328647] \n",
      "\n",
      "J(θ): 0.5066182835290438 \n",
      "\n",
      "▽(θ₀): -0.84362497206561\n",
      "▽(θ₁): -4.810319632512828 \n",
      "\n",
      "Gradient Vector:\n",
      " [[-0.84362497]\n",
      " [-4.81031963]] \n",
      "\n",
      "Gradient Vector Norm: 4.883736076041687 \n",
      "\n",
      "New_θ₀:  0.13289954403851054\n",
      "New_θ₁:  0.8209049028027976 \n",
      "\n",
      "\n",
      "——————————————————————— Iteration 6 ————————————————————————\n",
      "\n",
      "h(x): [2.51352384 5.63296224 4.15533365 6.61804835 8.17776775 5.79714345\n",
      " 5.14041937 5.22250978 5.05832896 4.31951447 3.99115243 3.74488119\n",
      " 4.89414814] \n",
      "\n",
      "Error Vector:\n",
      " [-1.48647616 -1.76703786 -0.84466635 -0.58195145  0.27776765 -0.30285645\n",
      " -0.85958063 -0.57749041 -0.14167085  0.11951466 -0.00884757 -0.6551189\n",
      " -0.30585167] \n",
      "\n",
      "J(θ): 0.3147143277319524 \n",
      "\n",
      "▽(θ₀): -0.5487896915690593\n",
      "▽(θ₁): -2.9243255096167196 \n",
      "\n",
      "Gradient Vector:\n",
      " [[-0.54878969]\n",
      " [-2.92432551]] \n",
      "\n",
      "Gradient Vector Norm: 2.975373894448822 \n",
      "\n",
      "New_θ₀:  0.13838744095420114\n",
      "New_θ₁:  0.8501481578989648 \n",
      "\n",
      "\n",
      "——————————————————————— Iteration 7 ————————————————————————\n",
      "\n",
      "h(x): [2.60381718 5.83437994 4.3041135  6.85455797 8.46983955 6.00440981\n",
      " 5.32429112 5.40930586 5.23927639 4.47414297 4.13408362 3.87903942\n",
      " 5.06924692] \n",
      "\n",
      "Error Vector:\n",
      " [-1.39618282 -1.56562016 -0.6958865  -0.34544184  0.56983946 -0.09559009\n",
      " -0.67570888 -0.39069433  0.03927658  0.27414316  0.13408362 -0.52096068\n",
      " -0.13075289] \n",
      "\n",
      "J(θ): 0.2434743055438609 \n",
      "\n",
      "▽(θ₀): -0.3691919525616604\n",
      "▽(θ₁): -1.7756388168823187 \n",
      "\n",
      "Gradient Vector:\n",
      " [[-0.36919195]\n",
      " [-1.77563882]] \n",
      "\n",
      "Gradient Vector Norm: 1.813614045450556 \n",
      "\n",
      "New_θ₀:  0.14207936047981773\n",
      "New_θ₁:  0.867904546067788 \n",
      "\n",
      "\n",
      "——————————————————————— Iteration 8 ————————————————————————\n",
      "\n",
      "h(x): [2.65900263 5.95703965 4.39481172 6.99852536 8.64754408 6.13062081\n",
      " 5.43629701 5.52308738 5.34950664 4.56839246 4.22123056 3.96085945\n",
      " 5.17592589] \n",
      "\n",
      "Error Vector:\n",
      " [-1.34099737 -1.44296044 -0.60518828 -0.20147445  0.74754398  0.03062091\n",
      " -0.56370299 -0.27691281  0.14950683  0.36839265  0.22123056 -0.43914065\n",
      " -0.02407392] \n",
      "\n",
      "J(θ): 0.21699567226372102 \n",
      "\n",
      "▽(θ₀): -0.2597812295025044\n",
      "▽(θ₁): -1.07601928536808 \n",
      "\n",
      "Gradient Vector:\n",
      " [[-0.25978123]\n",
      " [-1.07601929]] \n",
      "\n",
      "Gradient Vector Norm: 1.1069344107425092 \n",
      "\n",
      "New_θ₀:  0.14467717277484277\n",
      "New_θ₁:  0.8786647389214688 \n",
      "\n",
      "\n",
      "——————————————————————— Iteration 9 ————————————————————————\n",
      "\n",
      "h(x): [2.692805   6.03173076 4.45013448 7.08612869 8.75559178 6.20746395\n",
      " 5.504532   5.59239839 5.41666561 4.62586726 4.27440128 4.01080211\n",
      " 5.24093283] \n",
      "\n",
      "Error Vector:\n",
      " [-1.307195   -1.36826934 -0.54986552 -0.11387112  0.85559169  0.10746405\n",
      " -0.495468   -0.2076018   0.2166658   0.42586745  0.27440128 -0.38919799\n",
      "  0.04093302] \n",
      "\n",
      "J(θ): 0.20712173024297784 \n",
      "\n",
      "▽(θ₀): -0.19311888429314397\n",
      "▽(θ₁): -0.6499102411735714 \n",
      "\n",
      "Gradient Vector:\n",
      " [[-0.19311888]\n",
      " [-0.64991024]] \n",
      "\n",
      "Gradient Vector Norm: 0.6779957411760922 \n",
      "\n",
      "New_θ₀:  0.1466083616177742\n",
      "New_θ₁:  0.8851638413332045 \n",
      "\n",
      "\n",
      "——————————————————————— Iteration 10 ———————————————————————\n",
      "\n",
      "h(x): [2.71358359 6.07720593 4.48391127 7.13940279 8.82121418 6.25423895\n",
      " 5.54610771 5.63462401 5.45759141 4.66094387 4.30687825 4.04132935\n",
      " 5.28055881] \n",
      "\n",
      "Error Vector:\n",
      " [-1.28641641 -1.32279417 -0.51608873 -0.06059702  0.92121408  0.15423905\n",
      " -0.45389229 -0.16537618  0.2575916   0.46094406  0.30687825 -0.35867075\n",
      "  0.080559  ] \n",
      "\n",
      "J(θ): 0.20340751178872757 \n",
      "\n",
      "▽(θ₀): -0.15249303950565413\n",
      "▽(θ₁): -0.39038649350589893 \n",
      "\n",
      "Gradient Vector:\n",
      " [[-0.15249304]\n",
      " [-0.39038649]] \n",
      "\n",
      "Gradient Vector Norm: 0.41911304132597005 \n",
      "\n",
      "New_θ₀:  0.14813329201283076\n",
      "New_θ₁:  0.8890677062682635 \n",
      "\n",
      "\n",
      "——————————————————————— Iteration 11 ———————————————————————\n",
      "\n",
      "h(x): [2.72642972 6.10488675 4.50456514 7.17176826 8.86099698 6.28270055\n",
      " 5.57144622 5.6603529  5.48253953 4.68237851 4.32675134 4.06003128\n",
      " 5.30472616] \n",
      "\n",
      "Error Vector:\n",
      " [-1.27357028 -1.29511334 -0.49543486 -0.02823155  0.96099689  0.18270064\n",
      " -0.42855378 -0.13964729  0.28253972  0.4823787   0.32675134 -0.33996881\n",
      "  0.10472635] \n",
      "\n",
      "J(θ): 0.2019783667831467 \n",
      "\n",
      "▽(θ₀): -0.1277250978536343\n",
      "▽(θ₁): -0.23232379404136116 \n",
      "\n",
      "Gradient Vector:\n",
      " [[-0.1277251 ]\n",
      " [-0.23232379]] \n",
      "\n",
      "Gradient Vector Norm: 0.26511892784087154 \n",
      "\n",
      "New_θ₀:  0.1494105429913671\n",
      "New_θ₁:  0.891390944208677 \n",
      "\n",
      "\n",
      "——————————————————————— Iteration 12 ———————————————————————\n",
      "\n",
      "h(x): [2.73444437 6.1217297  4.51722625 7.19139909 8.88504197 6.30000814\n",
      " 5.58689522 5.67603423 5.49775621 4.69550427 4.33894781 4.07153078\n",
      " 5.31947819] \n",
      "\n",
      "Error Vector:\n",
      " [-1.26555563 -1.2782704  -0.48277375 -0.00860072  0.98504187  0.20000824\n",
      " -0.41310478 -0.12396596  0.2977564   0.49550446  0.33894781 -0.32846931\n",
      "  0.11947838] \n",
      "\n",
      "J(θ): 0.20139696055681952 \n",
      "\n",
      "▽(θ₀): -0.11261564558229831\n",
      "▽(θ₁): -0.136057329575502 \n",
      "\n",
      "Gradient Vector:\n",
      " [[-0.11261565]\n",
      " [-0.13605733]] \n",
      "\n",
      "Gradient Vector Norm: 0.17661789422687216 \n",
      "\n",
      "New_θ₀:  0.1505366994471901\n",
      "New_θ₁:  0.892751517504432 \n",
      "\n",
      "\n",
      "——————————————————————— Iteration 13 ———————————————————————\n",
      "\n",
      "h(x): [2.73951619 6.1319717  4.52501922 7.20327377 8.89950174 6.31052226\n",
      " 5.59632087 5.68559594 5.5070458  4.70356935 4.34646866 4.07864346\n",
      " 5.32849567] \n",
      "\n",
      "Error Vector:\n",
      " [-1.26048381 -1.2680284  -0.47498078  0.00327396  0.99950165  0.21052235\n",
      " -0.40367913 -0.11440425  0.307046    0.50356954  0.34646866 -0.32135663\n",
      "  0.12849586] \n",
      "\n",
      "J(θ): 0.2011301014330744 \n",
      "\n",
      "▽(θ₀): -0.10338884503268057\n",
      "▽(θ₁): -0.07742870370461738 \n",
      "\n",
      "Gradient Vector:\n",
      " [[-0.10338885]\n",
      " [-0.0774287 ]] \n",
      "\n",
      "Gradient Vector Norm: 0.12916832984353815 \n",
      "\n",
      "New_θ₀:  0.1515705878975169\n",
      "New_θ₁:  0.8935258045414782 \n",
      "\n",
      "\n",
      "——————————————————————— Iteration 14 ———————————————————————\n",
      "\n",
      "h(x): [2.74279551 6.13819331 4.52984712 7.21042453 8.90812364 6.31689872\n",
      " 5.60207791 5.69143041 5.51272542 4.70855211 4.3511417  4.08308421\n",
      " 5.33402042] \n",
      "\n",
      "Error Vector:\n",
      " [-1.25720449 -1.26180679 -0.47015288  0.01042472  1.00812355  0.21689882\n",
      " -0.39792209 -0.10856979  0.31272561  0.5085523   0.3511417  -0.31691588\n",
      "  0.13402062] \n",
      "\n",
      "J(θ): 0.20097999730449675 \n",
      "\n",
      "▽(θ₀): -0.09774497067926458\n",
      "▽(θ₁): -0.0417239150350257 \n",
      "\n",
      "Gradient Vector:\n",
      " [[-0.09774497]\n",
      " [-0.04172392]] \n",
      "\n",
      "Gradient Vector Norm: 0.10627776991892676 \n",
      "\n",
      "New_θ₀:  0.15254803760430954\n",
      "New_θ₁:  0.8939430436918285 \n",
      "\n",
      "\n",
      "——————————————————————— Iteration 15 ———————————————————————\n",
      "\n",
      "h(x): [2.74498295 6.14196626 4.53286904 7.21469817 8.91319004 6.32075512\n",
      " 5.60560052 5.69499474 5.5162063  4.71165748 4.35408017 4.08589751\n",
      " 5.33741786] \n",
      "\n",
      "Error Vector:\n",
      " [-1.25501705 -1.25803384 -0.46713096  0.01469836  1.01318994  0.22075522\n",
      " -0.39439948 -0.10500545  0.31620649  0.51165767  0.35408017 -0.31410258\n",
      "  0.13741805] \n",
      "\n",
      "J(θ): 0.20087327540003713 \n",
      "\n",
      "▽(θ₀): -0.09428334325890786\n",
      "▽(θ₁): -0.01998119998862543 \n",
      "\n",
      "Gradient Vector:\n",
      " [[-0.09428334]\n",
      " [-0.0199812 ]] \n",
      "\n",
      "Gradient Vector Norm: 0.09637736855228249 \n",
      "\n"
     ]
    }
   ],
   "source": [
    "theta_0 = 0\n",
    "theta_1 = 0\n",
    "lr = 0.01\n",
    "m = len(y)\n",
    "loss = []\n",
    "max_iter = 100\n",
    "\n",
    "for i in range(max_iter):\n",
    "    print(f\" Iteration {i+1} \".center(60, \"—\") + \"\\n\")\n",
    "\n",
    "    h_x = theta_0 + theta_1 * X\n",
    "    print(\"h(x):\", h_x, \"\\n\")\n",
    "\n",
    "    error = h_x - y\n",
    "    print(\"Error Vector:\\n\", error, \"\\n\")\n",
    "\n",
    "    J_theta = (error @ error) / (2 * m)\n",
    "    loss.append(J_theta)\n",
    "    print(\"J(θ):\", J_theta, \"\\n\")\n",
    "\n",
    "    d_theta_0 = (1 / m) * error.sum()\n",
    "    d_theta_1 = (1 / m) * (error @ X)\n",
    "    print(\"▽(θ₀):\", d_theta_0)\n",
    "    print(\"▽(θ₁):\", d_theta_1, \"\\n\")\n",
    "\n",
    "    gv = np.array([[d_theta_0], [d_theta_1]])\n",
    "    print(\"Gradient Vector:\\n\", gv, \"\\n\")\n",
    "    gv_norm = np.linalg.norm(gv)\n",
    "    print(\"Gradient Vector Norm:\", gv_norm, \"\\n\")\n",
    "    if gv_norm < 0.1:\n",
    "        break\n",
    "\n",
    "    theta_0 = theta_0 - (lr * d_theta_0)\n",
    "    theta_1 = theta_1 - (lr * d_theta_1)\n",
    "    print(\"New_θ₀: \", theta_0)\n",
    "    print(\"New_θ₁: \", theta_1, \"\\n\\n\")"
   ]
  },
  {
   "cell_type": "markdown",
   "metadata": {},
   "source": [
    "---\n"
   ]
  },
  {
   "cell_type": "markdown",
   "metadata": {},
   "source": [
    "#### **Summary**\n"
   ]
  },
  {
   "cell_type": "code",
   "execution_count": 57,
   "metadata": {},
   "outputs": [
    {
     "name": "stdout",
     "output_type": "stream",
     "text": [
      "Loss change convergence achieved at iteration 170\n",
      "Final θ₀: 0.15509188910114532\n",
      "Final θ₁: 0.8933464236228966\n"
     ]
    }
   ],
   "source": [
    "def gradient_descent(\n",
    "    X, y, lr=0.1, max_iter=1000, loss_threshold=0.0001, gradient_threshold=0.001\n",
    "):\n",
    "    theta_0, theta_1 = 0, 0  # Initialize parameters\n",
    "    m = len(y)\n",
    "    loss_history = []\n",
    "\n",
    "    for i in range(max_iter):\n",
    "        # Compute predictions\n",
    "        h_x = theta_0 + theta_1 * X\n",
    "\n",
    "        # Calculate error\n",
    "        error = h_x - y\n",
    "\n",
    "        # Compute cost (Mean Squared Error)\n",
    "        J_theta = np.dot(error, error) / (2 * m)\n",
    "        loss_history.append(J_theta)\n",
    "\n",
    "        # Check for convergence based on loss difference\n",
    "        if i > 0 and np.abs(loss_history[i - 1] - loss_history[i]) < loss_threshold:\n",
    "            print(f\"Loss change convergence achieved at iteration {i + 1}\")\n",
    "            break\n",
    "\n",
    "        # Compute gradients\n",
    "        d_theta_0 = (1 / m) * error.sum()\n",
    "        d_theta_1 = (1 / m) * (error @ X)\n",
    "\n",
    "        # Compute gradient norm\n",
    "        gradient_vector = np.array([d_theta_0, d_theta_1])\n",
    "        gradient_norm = np.linalg.norm(gradient_vector)\n",
    "\n",
    "        # Check for convergence based on gradient norm\n",
    "        if gradient_norm < gradient_threshold:\n",
    "            print(f\"Gradient norm convergence achieved at iteration {i + 1}\")\n",
    "            break\n",
    "\n",
    "        # Update parameters\n",
    "        theta_0 -= lr * d_theta_0\n",
    "        theta_1 -= lr * d_theta_1\n",
    "\n",
    "    return theta_0, theta_1, loss_history\n",
    "\n",
    "\n",
    "final_theta_0, final_theta_1, loss_history = gradient_descent(\n",
    "    X, y, lr=0.001, max_iter=2000, loss_threshold=0.00001, gradient_threshold=0.01\n",
    ")\n",
    "\n",
    "print(\"Final θ₀:\", final_theta_0)\n",
    "print(\"Final θ₁:\", final_theta_1)"
   ]
  },
  {
   "cell_type": "markdown",
   "metadata": {},
   "source": [
    "---\n"
   ]
  },
  {
   "cell_type": "markdown",
   "metadata": {},
   "source": [
    "#### **Predict y values using the LR equation**\n",
    "\n",
    "$$h_\\theta(x) = \\theta_0 + \\theta_1 x$$\n"
   ]
  },
  {
   "cell_type": "code",
   "execution_count": 58,
   "metadata": {},
   "outputs": [
    {
     "name": "stdout",
     "output_type": "stream",
     "text": [
      "h(x) = y_predict:\n",
      " [2.7457966  6.14051276 4.53248945 7.21252872 8.90988701 6.3191823\n",
      " 5.60450499 5.69383954 5.51517043 4.71115856 4.35381991 4.08581624\n",
      " 5.33650132]\n",
      "\n",
      "y_actual:\n",
      " [4.         7.4000001  5.         7.19999981 7.9000001  6.0999999\n",
      " 6.         5.80000019 5.19999981 4.19999981 4.         4.4000001\n",
      " 5.19999981]\n"
     ]
    }
   ],
   "source": [
    "y_pred = final_theta_0 + final_theta_1 * X\n",
    "print(\"h(x) = y_predict:\\n\", y_pred)\n",
    "print(\"\\ny_actual:\\n\", y)"
   ]
  },
  {
   "cell_type": "markdown",
   "metadata": {},
   "source": [
    "#### **Visualize Results**\n"
   ]
  },
  {
   "cell_type": "markdown",
   "metadata": {},
   "source": [
    "Plot LR equation output (fitted line) with the original data (scatter plot of X,y)\n"
   ]
  },
  {
   "cell_type": "code",
   "execution_count": 59,
   "metadata": {},
   "outputs": [
    {
     "data": {
      "image/png": "[encoded data removed]",
      "text/plain": [
       "<Figure size 700x500 with 1 Axes>"
      ]
     },
     "metadata": {},
     "output_type": "display_data"
    }
   ],
   "source": [
    "plt.figure(figsize=(7, 5))\n",
    "plt.scatter(X, y, label=\"Original Data\")\n",
    "plt.plot(X, y_pred, color=\"red\", label=\"Fitted Line\")\n",
    "plt.xlabel(\"X\")\n",
    "plt.ylabel(\"Y\")\n",
    "plt.title(\"Linear Regression Fit\")\n",
    "plt.legend()\n",
    "plt.show()"
   ]
  },
  {
   "cell_type": "markdown",
   "metadata": {},
   "source": [
    "#### **Evaluate Model**\n"
   ]
  },
  {
   "cell_type": "markdown",
   "metadata": {},
   "source": [
    "**Use R2 score to evaluate LR equation output**\n",
    "\n",
    "https://en.wikipedia.org/wiki/Coefficient_of_determination\n"
   ]
  },
  {
   "cell_type": "code",
   "execution_count": 60,
   "metadata": {},
   "outputs": [
    {
     "name": "stdout",
     "output_type": "stream",
     "text": [
      "R2 Score: 0.748317144299544\n"
     ]
    }
   ],
   "source": [
    "from sklearn.metrics import r2_score\n",
    "\n",
    "r2 = r2_score(y, y_pred)\n",
    "print(\"R2 Score:\", r2)"
   ]
  },
  {
   "cell_type": "markdown",
   "metadata": {},
   "source": [
    "#### **Plot Loss Function**\n"
   ]
  },
  {
   "cell_type": "code",
   "execution_count": 61,
   "metadata": {},
   "outputs": [
    {
     "data": {
      "image/png": "[encoded data removed]",
      "text/plain": [
       "<Figure size 2000x800 with 1 Axes>"
      ]
     },
     "metadata": {},
     "output_type": "display_data"
    }
   ],
   "source": [
    "plt.figure(figsize=(20, 8))\n",
    "plt.plot(loss_history, \".-r\")\n",
    "plt.title(\"Loss vs. Iterations\")\n",
    "plt.xlabel(f\"Iterations: {len(loss_history)}\")\n",
    "plt.ylabel(\"Loss\")\n",
    "plt.show()"
   ]
  },
  {
   "cell_type": "markdown",
   "metadata": {},
   "source": [
    "---\n"
   ]
  }
 ],
 "metadata": {
  "kernelspec": {
   "display_name": "Python 3",
   "language": "python",
   "name": "python3"
  },
  "language_info": {
   "codemirror_mode": {
    "name": "ipython",
    "version": 3
   },
   "file_extension": ".py",
   "mimetype": "text/x-python",
   "name": "python",
   "nbconvert_exporter": "python",
   "pygments_lexer": "ipython3",
   "version": "3.12.4"
  }
 },
 "nbformat": 4,
 "nbformat_minor": 4
}
